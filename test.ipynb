{
 "cells": [
  {
   "cell_type": "code",
   "execution_count": 6,
   "id": "7bc40820",
   "metadata": {},
   "outputs": [
    {
     "name": "stdout",
     "output_type": "stream",
     "text": [
      "画像の分割と保存が完了しました。\n"
     ]
    }
   ],
   "source": [
    "\n",
    "import os\n",
    "import cv2\n",
    "import numpy as np\n",
    "\n",
    "# 画像の読み込み\n",
    "img=cv2.imread('rgb_images\\Plot1_1_Camera1_1.jpg',cv2.IMREAD_COLOR)\n",
    "\n",
    "# 画像の高さと幅を取得\n",
    "h, w = img.shape[:2]\n",
    "\n",
    "# 分割数\n",
    "split_x = 3\n",
    "split_y = 2\n",
    "\n",
    "# 分割後のサイズを計算\n",
    "split_height = h // split_y\n",
    "split_width = w // split_x\n",
    "\n",
    "# 画像を分割\n",
    "split_images = []\n",
    "for y in range(split_y):\n",
    "    for x in range(split_x):\n",
    "        start_x = x * split_width\n",
    "        end_x = start_x + split_width\n",
    "        start_y = y * split_height\n",
    "        end_y = start_y + split_height\n",
    "        split_img = img[start_y:end_y, start_x:end_x]\n",
    "        split_images.append(split_img)\n",
    "\n",
    "# 保存先フォルダの作成\n",
    "save_folder = \"split\"\n",
    "if not os.path.exists(save_folder):\n",
    "    os.makedirs(save_folder)\n",
    "\n",
    "# 分割された画像を保存\n",
    "for i, split_img in enumerate(split_images):\n",
    "    save_path = os.path.join(save_folder, f\"split_{i+1}.jpg\")\n",
    "    cv2.imwrite(save_path, split_img)\n",
    "\n",
    "print(\"画像の分割と保存が完了しました。\")\n"
   ]
  },
  {
   "cell_type": "code",
   "execution_count": 5,
   "id": "36ac456b",
   "metadata": {},
   "outputs": [
    {
     "name": "stdout",
     "output_type": "stream",
     "text": [
      "画像の分割と保存が完了しました。\n"
     ]
    }
   ],
   "source": [
    "import os\n",
    "import cv2\n",
    "import numpy as np\n",
    "\n",
    "# 画像の読み込み\n",
    "img = cv2.imread('rgb_images\\Plot1_1_Camera1_1.jpg', cv2.IMREAD_COLOR)\n",
    "\n",
    "# 画像の高さと幅を取得\n",
    "h, w = img.shape[:2]\n",
    "\n",
    "# 分割数\n",
    "split_x = 3\n",
    "split_y = 2\n",
    "\n",
    "# 分割後のサイズを計算\n",
    "split_height = h // split_y\n",
    "split_width = w // split_x\n",
    "\n",
    "# 画像を分割\n",
    "split_images = []\n",
    "for y in range(split_y):\n",
    "    for x in range(split_x):\n",
    "        start_x = x * split_width\n",
    "        end_x = start_x + split_width\n",
    "        start_y = y * split_height\n",
    "        end_y = start_y + split_height\n",
    "        split_img = img[start_y:end_y, start_x:end_x]\n",
    "        split_images.append(split_img)\n",
    "\n",
    "# 保存先フォルダの作成\n",
    "save_folder = os.path.dirname('rgb_images')\n",
    "\n",
    "# 分割された画像を保存\n",
    "for i, split_img in enumerate(split_images):\n",
    "    save_path = os.path.join(save_folder, f\"split_{i+1}.jpg\")\n",
    "    cv2.imwrite(save_path, split_img)\n",
    "\n",
    "print(\"画像の分割と保存が完了しました。\")"
   ]
  },
  {
   "cell_type": "code",
   "execution_count": 7,
   "id": "91497e6f",
   "metadata": {},
   "outputs": [
    {
     "name": "stdout",
     "output_type": "stream",
     "text": [
      "画像の分割と保存が完了しました。\n"
     ]
    }
   ],
   "source": [
    "import cv2\n",
    "\n",
    "# 処理を行うフォルダのパス\n",
    "folder_path = 'rgb_images'\n",
    "\n",
    "# フォルダ内のファイルを取得\n",
    "file_list = os.listdir(folder_path)\n",
    "\n",
    "# 保存先フォルダの作成\n",
    "save_folder = \"split\"\n",
    "if not os.path.exists(save_folder):\n",
    "    os.makedirs(save_folder)\n",
    "\n",
    "\n",
    "# 'Camera1_1'で終わる画像ファイルに対して処理を行う\n",
    "for filename in file_list:\n",
    "    if filename.endswith('Camera1_1.jpg'):\n",
    "        # 画像の読み込み\n",
    "        img_path = os.path.join(folder_path, filename)\n",
    "        img = cv2.imread(img_path, cv2.IMREAD_COLOR)\n",
    "\n",
    "        # 画像の高さと幅を取得\n",
    "        h, w = img.shape[:2]\n",
    "\n",
    "        # 分割数\n",
    "        split_x = 3\n",
    "        split_y = 2\n",
    "\n",
    "        # 分割後のサイズを計算\n",
    "        split_height = h // split_y\n",
    "        split_width = w // split_x\n",
    "\n",
    "        # 画像を分割\n",
    "        split_images = []\n",
    "        for y in range(split_y):\n",
    "            for x in range(split_x):\n",
    "                start_x = x * split_width\n",
    "                end_x = start_x + split_width\n",
    "                start_y = y * split_height\n",
    "                end_y = start_y + split_height\n",
    "                split_img = img[start_y:end_y, start_x:end_x]\n",
    "                split_images.append(split_img)\n",
    "\n",
    "        # 分割された画像を保存\n",
    "        for i, split_img in enumerate(split_images):\n",
    "            new_filename = filename.replace('_Camera1_1', '_Session_2023-07-20')\n",
    "            save_path = os.path.join(save_folder, f\"{new_filename}_split_{i+1}\")\n",
    "            cv2.imwrite(save_path, split_img)\n",
    "\n",
    "print(\"画像の分割と保存が完了しました。\")"
   ]
  },
  {
   "cell_type": "code",
   "execution_count": 10,
   "id": "1880df86",
   "metadata": {},
   "outputs": [
    {
     "name": "stdout",
     "output_type": "stream",
     "text": [
      "ファイル名の変更が完了しました。\n"
     ]
    }
   ],
   "source": [
    "import os\n",
    "folder_path = 'split'\n",
    "\n",
    "# フォルダ内のファイルを取得\n",
    "file_list = os.listdir(folder_path)\n",
    "\n",
    "# ファイル名を変更して保存\n",
    "for filename in file_list:\n",
    "    if '_Camera1_1' in filename:\n",
    "        new_filename = filename.replace('_Camera1_1', '_Session_2023-07-20')\n",
    "        os.rename(os.path.join(folder_path, filename), os.path.join(folder_path, new_filename))\n",
    "\n",
    "print(\"ファイル名の変更が完了しました。\")"
   ]
  },
  {
   "cell_type": "code",
   "execution_count": 20,
   "id": "797820ec",
   "metadata": {},
   "outputs": [
    {
     "name": "stdout",
     "output_type": "stream",
     "text": [
      "ファイル名の変更が完了しました。\n"
     ]
    }
   ],
   "source": [
    "import os\n",
    "folder_path = 'split'\n",
    "\n",
    "# フォルダ内のファイルを取得\n",
    "file_list = os.listdir(folder_path)\n",
    "\n",
    "# ファイル名を変更して保存\n",
    "for filename in file_list:\n",
    "    new_filename = filename.replace('_Plot', 'Plot') \n",
    "    os.rename(os.path.join(folder_path, filename), os.path.join(folder_path, new_filename))\n",
    "\n",
    "print(\"ファイル名の変更が完了しました。\")"
   ]
  },
  {
   "cell_type": "code",
   "execution_count": 12,
   "id": "82912077",
   "metadata": {},
   "outputs": [
    {
     "ename": "TypeError",
     "evalue": "join() argument must be str, bytes, or os.PathLike object, not 'tuple'",
     "output_type": "error",
     "traceback": [
      "\u001b[1;31m---------------------------------------------------------------------------\u001b[0m",
      "\u001b[1;31mTypeError\u001b[0m                                 Traceback (most recent call last)",
      "\u001b[1;32m<ipython-input-12-16b62d8edbb1>\u001b[0m in \u001b[0;36m<module>\u001b[1;34m\u001b[0m\n\u001b[0;32m      9\u001b[0m     \u001b[1;32mif\u001b[0m \u001b[1;34m'_Session_2023-07-20'\u001b[0m \u001b[1;32min\u001b[0m \u001b[0mfilename\u001b[0m\u001b[1;33m:\u001b[0m\u001b[1;33m\u001b[0m\u001b[1;33m\u001b[0m\u001b[0m\n\u001b[0;32m     10\u001b[0m         \u001b[0mnew_filename\u001b[0m \u001b[1;33m=\u001b[0m \u001b[0mfilename\u001b[0m\u001b[1;33m.\u001b[0m\u001b[0mreplace\u001b[0m\u001b[1;33m,\u001b[0m \u001b[1;33m(\u001b[0m\u001b[1;34m'_Session_2023-07-20'\u001b[0m\u001b[1;33m,\u001b[0m\u001b[1;34m'_Camera1_1'\u001b[0m\u001b[1;33m)\u001b[0m\u001b[1;33m\u001b[0m\u001b[1;33m\u001b[0m\u001b[0m\n\u001b[1;32m---> 11\u001b[1;33m         \u001b[0mos\u001b[0m\u001b[1;33m.\u001b[0m\u001b[0mrename\u001b[0m\u001b[1;33m(\u001b[0m\u001b[0mos\u001b[0m\u001b[1;33m.\u001b[0m\u001b[0mpath\u001b[0m\u001b[1;33m.\u001b[0m\u001b[0mjoin\u001b[0m\u001b[1;33m(\u001b[0m\u001b[0mfolder_path\u001b[0m\u001b[1;33m,\u001b[0m \u001b[0mfilename\u001b[0m\u001b[1;33m)\u001b[0m\u001b[1;33m,\u001b[0m \u001b[0mos\u001b[0m\u001b[1;33m.\u001b[0m\u001b[0mpath\u001b[0m\u001b[1;33m.\u001b[0m\u001b[0mjoin\u001b[0m\u001b[1;33m(\u001b[0m\u001b[0mfolder_path\u001b[0m\u001b[1;33m,\u001b[0m \u001b[0mnew_filename\u001b[0m\u001b[1;33m)\u001b[0m\u001b[1;33m)\u001b[0m\u001b[1;33m\u001b[0m\u001b[1;33m\u001b[0m\u001b[0m\n\u001b[0m\u001b[0;32m     12\u001b[0m \u001b[1;33m\u001b[0m\u001b[0m\n\u001b[0;32m     13\u001b[0m \u001b[0mprint\u001b[0m\u001b[1;33m(\u001b[0m\u001b[1;34m\"ファイル名の変更が完了しました。\"\u001b[0m\u001b[1;33m)\u001b[0m\u001b[1;33m\u001b[0m\u001b[1;33m\u001b[0m\u001b[0m\n",
      "\u001b[1;32m~\\anaconda3\\lib\\ntpath.py\u001b[0m in \u001b[0;36mjoin\u001b[1;34m(path, *paths)\u001b[0m\n\u001b[0;32m    115\u001b[0m         \u001b[1;32mreturn\u001b[0m \u001b[0mresult_drive\u001b[0m \u001b[1;33m+\u001b[0m \u001b[0mresult_path\u001b[0m\u001b[1;33m\u001b[0m\u001b[1;33m\u001b[0m\u001b[0m\n\u001b[0;32m    116\u001b[0m     \u001b[1;32mexcept\u001b[0m \u001b[1;33m(\u001b[0m\u001b[0mTypeError\u001b[0m\u001b[1;33m,\u001b[0m \u001b[0mAttributeError\u001b[0m\u001b[1;33m,\u001b[0m \u001b[0mBytesWarning\u001b[0m\u001b[1;33m)\u001b[0m\u001b[1;33m:\u001b[0m\u001b[1;33m\u001b[0m\u001b[1;33m\u001b[0m\u001b[0m\n\u001b[1;32m--> 117\u001b[1;33m         \u001b[0mgenericpath\u001b[0m\u001b[1;33m.\u001b[0m\u001b[0m_check_arg_types\u001b[0m\u001b[1;33m(\u001b[0m\u001b[1;34m'join'\u001b[0m\u001b[1;33m,\u001b[0m \u001b[0mpath\u001b[0m\u001b[1;33m,\u001b[0m \u001b[1;33m*\u001b[0m\u001b[0mpaths\u001b[0m\u001b[1;33m)\u001b[0m\u001b[1;33m\u001b[0m\u001b[1;33m\u001b[0m\u001b[0m\n\u001b[0m\u001b[0;32m    118\u001b[0m         \u001b[1;32mraise\u001b[0m\u001b[1;33m\u001b[0m\u001b[1;33m\u001b[0m\u001b[0m\n\u001b[0;32m    119\u001b[0m \u001b[1;33m\u001b[0m\u001b[0m\n",
      "\u001b[1;32m~\\anaconda3\\lib\\genericpath.py\u001b[0m in \u001b[0;36m_check_arg_types\u001b[1;34m(funcname, *args)\u001b[0m\n\u001b[0;32m    150\u001b[0m             \u001b[0mhasbytes\u001b[0m \u001b[1;33m=\u001b[0m \u001b[1;32mTrue\u001b[0m\u001b[1;33m\u001b[0m\u001b[1;33m\u001b[0m\u001b[0m\n\u001b[0;32m    151\u001b[0m         \u001b[1;32melse\u001b[0m\u001b[1;33m:\u001b[0m\u001b[1;33m\u001b[0m\u001b[1;33m\u001b[0m\u001b[0m\n\u001b[1;32m--> 152\u001b[1;33m             raise TypeError(f'{funcname}() argument must be str, bytes, or '\n\u001b[0m\u001b[0;32m    153\u001b[0m                             f'os.PathLike object, not {s.__class__.__name__!r}') from None\n\u001b[0;32m    154\u001b[0m     \u001b[1;32mif\u001b[0m \u001b[0mhasstr\u001b[0m \u001b[1;32mand\u001b[0m \u001b[0mhasbytes\u001b[0m\u001b[1;33m:\u001b[0m\u001b[1;33m\u001b[0m\u001b[1;33m\u001b[0m\u001b[0m\n",
      "\u001b[1;31mTypeError\u001b[0m: join() argument must be str, bytes, or os.PathLike object, not 'tuple'"
     ]
    }
   ],
   "source": [
    "import os\n",
    "folder_path = 'rgb_images'\n",
    "\n",
    "# フォルダ内のファイルを取得\n",
    "file_list = os.listdir(folder_path)\n",
    "\n",
    "# ファイル名を変更して保存\n",
    "for filename in file_list:\n",
    "    if '_Session_2023-07-20' in filename:\n",
    "        new_filename = filename.replace, ('_Session_2023-07-20','_Camera1_1')\n",
    "        os.rename(os.path.join(folder_path, filename), os.path.join(folder_path, new_filename))\n",
    "\n",
    "print(\"ファイル名の変更が完了しました。\")"
   ]
  }
 ],
 "metadata": {
  "kernelspec": {
   "display_name": "Python 3",
   "language": "python",
   "name": "python3"
  },
  "language_info": {
   "codemirror_mode": {
    "name": "ipython",
    "version": 3
   },
   "file_extension": ".py",
   "mimetype": "text/x-python",
   "name": "python",
   "nbconvert_exporter": "python",
   "pygments_lexer": "ipython3",
   "version": "3.8.8"
  }
 },
 "nbformat": 4,
 "nbformat_minor": 5
}
